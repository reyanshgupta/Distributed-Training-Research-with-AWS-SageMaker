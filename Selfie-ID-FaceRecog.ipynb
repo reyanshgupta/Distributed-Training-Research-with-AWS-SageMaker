{
 "cells": [
  {
   "cell_type": "markdown",
   "metadata": {},
   "source": [
    "Libraries"
   ]
  },
  {
   "cell_type": "code",
   "execution_count": 29,
   "metadata": {},
   "outputs": [],
   "source": [
    "import os\n",
    "import cv2\n",
    "import numpy as np\n",
    "import time\n",
    "from sklearn.preprocessing import LabelBinarizer\n",
    "from keras.models import Sequential\n",
    "from keras.layers import Conv2D, MaxPooling2D, Flatten, Dense, Dropout\n",
    "from keras.optimizers import Adam\n",
    "from PIL import Image\n",
    "from sklearn.metrics import classification_report\n",
    "from keras.models import load_model\n",
    "from sklearn.preprocessing import LabelBinarizer"
   ]
  },
  {
   "cell_type": "markdown",
   "metadata": {},
   "source": [
    "Constants"
   ]
  },
  {
   "cell_type": "code",
   "execution_count": 30,
   "metadata": {},
   "outputs": [],
   "source": [
    "IMAGE_SIZE = 64  "
   ]
  },
  {
   "cell_type": "markdown",
   "metadata": {},
   "source": [
    "Pre Processing"
   ]
  },
  {
   "cell_type": "code",
   "execution_count": 26,
   "metadata": {},
   "outputs": [
    {
     "name": "stdout",
     "output_type": "stream",
     "text": [
      "Skipping non-image file: ID_Images_Dataset/Selfies_ID_Images_dataset/11_sets_Hispanics/.DS_Store\n",
      "Skipping non-image file: ID_Images_Dataset/Selfies_ID_Images_dataset/18_sets_Caucasians/.DS_Store\n",
      "Classes Count:  29\n"
     ]
    }
   ],
   "source": [
    "execution_start_time = time.time()\n",
    "data = []\n",
    "labels = []\n",
    "\n",
    "# Function to prepare the dataset\n",
    "def prepareDataset(path):\n",
    "    filePaths = []\n",
    "    y = []\n",
    "    count = 0\n",
    "    name = ''\n",
    "\n",
    "    for dirname, _, filenames in os.walk(path):\n",
    "        if count != 0:\n",
    "            x = dirname.split('/')[-1]\n",
    "            index = x.rindex('_name_')\n",
    "            name = x[index+6:].replace(' ','')\n",
    "        for filename in filenames:\n",
    "            full_path = os.path.join(dirname, filename)\n",
    "            filePaths.append(full_path)\n",
    "            y.append(name)\n",
    "        \n",
    "        count += 1\n",
    "    return filePaths, y\n",
    "\n",
    "hispanic_path = 'ID_Images_Dataset/Selfies_ID_Images_dataset/11_sets_Hispanics'  \n",
    "caucasian_path = 'ID_Images_Dataset/Selfies_ID_Images_dataset/18_sets_Caucasians'  \n",
    "\n",
    "hispanic_filePaths, hispanic_labels = prepareDataset(hispanic_path)\n",
    "caucasian_filePaths, caucasian_labels = prepareDataset(caucasian_path)\n",
    "\n",
    "\n",
    "filePaths = hispanic_filePaths + caucasian_filePaths\n",
    "y_labels = hispanic_labels + caucasian_labels  \n",
    "\n",
    "# Load and preprocess the images\n",
    "for i, filePath in enumerate(filePaths):\n",
    "    if not filePath.lower().endswith(('.png', '.jpg', '.jpeg')):\n",
    "        print(f\"Skipping non-image file: {filePath}\")\n",
    "        continue\n",
    "    try:\n",
    "        pil_image = Image.open(filePath).convert('RGB')\n",
    "        image = np.array(pil_image)\n",
    "        image = cv2.resize(image, (IMAGE_SIZE, IMAGE_SIZE))\n",
    "        data.append(image)\n",
    "        labels.append(y_labels[i])\n",
    "    except (IOError, OSError) as e:\n",
    "        print(f\"Warning: Could not read image from {filePath} - {e}\")\n",
    "#\n",
    "data = np.array(data, dtype=\"float\") / 255.0\n",
    "labels = np.array(labels)\n",
    "\n",
    "# Convert the labels from strings to integers\n",
    "lb = LabelBinarizer()\n",
    "labels = lb.fit_transform(labels)\n",
    "\n",
    "# Define the number of classes for the CNN model\n",
    "number_of_classes = labels.shape[1]\n",
    "print(\"Classes Count: \",number_of_classes)\n",
    "np.save('label_classes.npy', lb.classes_)"
   ]
  },
  {
   "cell_type": "markdown",
   "metadata": {},
   "source": [
    "Model"
   ]
  },
  {
   "cell_type": "code",
   "execution_count": 24,
   "metadata": {},
   "outputs": [
    {
     "name": "stderr",
     "output_type": "stream",
     "text": [
      "WARNING:absl:At this time, the v2.11+ optimizer `tf.keras.optimizers.Adam` runs slowly on M1/M2 Macs, please use the legacy Keras optimizer instead, located at `tf.keras.optimizers.legacy.Adam`.\n"
     ]
    },
    {
     "name": "stdout",
     "output_type": "stream",
     "text": [
      "Epoch 1/50\n",
      "14/14 [==============================] - 1s 53ms/step - loss: 3.3984 - accuracy: 0.0322\n",
      "Epoch 2/50\n",
      "14/14 [==============================] - 1s 51ms/step - loss: 3.3679 - accuracy: 0.0391\n",
      "Epoch 3/50\n",
      "14/14 [==============================] - 1s 51ms/step - loss: 3.3387 - accuracy: 0.0506\n",
      "Epoch 4/50\n",
      "14/14 [==============================] - 1s 56ms/step - loss: 3.3062 - accuracy: 0.0713\n",
      "Epoch 5/50\n",
      "14/14 [==============================] - 1s 53ms/step - loss: 3.2933 - accuracy: 0.0736\n",
      "Epoch 6/50\n",
      "14/14 [==============================] - 1s 52ms/step - loss: 3.2527 - accuracy: 0.1149\n",
      "Epoch 7/50\n",
      "14/14 [==============================] - 1s 50ms/step - loss: 3.1845 - accuracy: 0.1264\n",
      "Epoch 8/50\n",
      "14/14 [==============================] - 1s 53ms/step - loss: 3.1838 - accuracy: 0.1195\n",
      "Epoch 9/50\n",
      "14/14 [==============================] - 1s 50ms/step - loss: 3.0725 - accuracy: 0.1609\n",
      "Epoch 10/50\n",
      "14/14 [==============================] - 1s 50ms/step - loss: 2.9407 - accuracy: 0.1862\n",
      "Epoch 11/50\n",
      "14/14 [==============================] - 1s 51ms/step - loss: 2.8663 - accuracy: 0.2299\n",
      "Epoch 12/50\n",
      "14/14 [==============================] - 1s 50ms/step - loss: 2.7871 - accuracy: 0.2460\n",
      "Epoch 13/50\n",
      "14/14 [==============================] - 1s 51ms/step - loss: 2.6114 - accuracy: 0.2920\n",
      "Epoch 14/50\n",
      "14/14 [==============================] - 1s 51ms/step - loss: 2.4971 - accuracy: 0.3195\n",
      "Epoch 15/50\n",
      "14/14 [==============================] - 1s 50ms/step - loss: 2.3190 - accuracy: 0.3908\n",
      "Epoch 16/50\n",
      "14/14 [==============================] - 1s 51ms/step - loss: 2.2259 - accuracy: 0.4138\n",
      "Epoch 17/50\n",
      "14/14 [==============================] - 1s 51ms/step - loss: 2.1062 - accuracy: 0.4759\n",
      "Epoch 18/50\n",
      "14/14 [==============================] - 1s 51ms/step - loss: 1.9343 - accuracy: 0.4920\n",
      "Epoch 19/50\n",
      "14/14 [==============================] - 1s 53ms/step - loss: 1.8249 - accuracy: 0.5333\n",
      "Epoch 20/50\n",
      "14/14 [==============================] - 1s 52ms/step - loss: 1.7694 - accuracy: 0.5471\n",
      "Epoch 21/50\n",
      "14/14 [==============================] - 1s 52ms/step - loss: 1.6820 - accuracy: 0.5379\n",
      "Epoch 22/50\n",
      "14/14 [==============================] - 1s 52ms/step - loss: 1.5833 - accuracy: 0.5954\n",
      "Epoch 23/50\n",
      "14/14 [==============================] - 1s 51ms/step - loss: 1.5494 - accuracy: 0.5839\n",
      "Epoch 24/50\n",
      "14/14 [==============================] - 1s 51ms/step - loss: 1.3984 - accuracy: 0.6299\n",
      "Epoch 25/50\n",
      "14/14 [==============================] - 1s 52ms/step - loss: 1.3478 - accuracy: 0.6506\n",
      "Epoch 26/50\n",
      "14/14 [==============================] - 1s 52ms/step - loss: 1.1922 - accuracy: 0.6943\n",
      "Epoch 27/50\n",
      "14/14 [==============================] - 1s 51ms/step - loss: 1.2036 - accuracy: 0.6690\n",
      "Epoch 28/50\n",
      "14/14 [==============================] - 1s 52ms/step - loss: 1.0900 - accuracy: 0.7218\n",
      "Epoch 29/50\n",
      "14/14 [==============================] - 1s 51ms/step - loss: 1.0656 - accuracy: 0.7172\n",
      "Epoch 30/50\n",
      "14/14 [==============================] - 1s 52ms/step - loss: 0.9299 - accuracy: 0.7425\n",
      "Epoch 31/50\n",
      "14/14 [==============================] - 1s 53ms/step - loss: 0.9473 - accuracy: 0.7494\n",
      "Epoch 32/50\n",
      "14/14 [==============================] - 1s 51ms/step - loss: 0.8610 - accuracy: 0.7586\n",
      "Epoch 33/50\n",
      "14/14 [==============================] - 1s 51ms/step - loss: 0.8221 - accuracy: 0.7747\n",
      "Epoch 34/50\n",
      "14/14 [==============================] - 1s 52ms/step - loss: 0.7122 - accuracy: 0.8092\n",
      "Epoch 35/50\n",
      "14/14 [==============================] - 1s 51ms/step - loss: 0.6903 - accuracy: 0.8115\n",
      "Epoch 36/50\n",
      "14/14 [==============================] - 1s 49ms/step - loss: 0.6769 - accuracy: 0.8000\n",
      "Epoch 37/50\n",
      "14/14 [==============================] - 1s 52ms/step - loss: 0.6097 - accuracy: 0.8115\n",
      "Epoch 38/50\n",
      "14/14 [==============================] - 1s 52ms/step - loss: 0.5999 - accuracy: 0.8368\n",
      "Epoch 39/50\n",
      "14/14 [==============================] - 1s 51ms/step - loss: 0.5437 - accuracy: 0.8575\n",
      "Epoch 40/50\n",
      "14/14 [==============================] - 1s 52ms/step - loss: 0.5229 - accuracy: 0.8437\n",
      "Epoch 41/50\n",
      "14/14 [==============================] - 1s 52ms/step - loss: 0.4558 - accuracy: 0.8897\n",
      "Epoch 42/50\n",
      "14/14 [==============================] - 1s 51ms/step - loss: 0.4883 - accuracy: 0.8621\n",
      "Epoch 43/50\n",
      "14/14 [==============================] - 1s 54ms/step - loss: 0.4576 - accuracy: 0.8621\n",
      "Epoch 44/50\n",
      "14/14 [==============================] - 1s 51ms/step - loss: 0.3824 - accuracy: 0.9103\n",
      "Epoch 45/50\n",
      "14/14 [==============================] - 1s 51ms/step - loss: 0.3729 - accuracy: 0.8759\n",
      "Epoch 46/50\n",
      "14/14 [==============================] - 1s 52ms/step - loss: 0.3365 - accuracy: 0.8966\n",
      "Epoch 47/50\n",
      "14/14 [==============================] - 1s 50ms/step - loss: 0.2991 - accuracy: 0.9310\n",
      "Epoch 48/50\n",
      "14/14 [==============================] - 1s 52ms/step - loss: 0.2743 - accuracy: 0.9333\n",
      "Epoch 49/50\n",
      "14/14 [==============================] - 1s 51ms/step - loss: 0.2476 - accuracy: 0.9333\n",
      "Epoch 50/50\n",
      "14/14 [==============================] - 1s 53ms/step - loss: 0.2792 - accuracy: 0.9264\n",
      "Total training time: 36.54 seconds\n"
     ]
    },
    {
     "name": "stderr",
     "output_type": "stream",
     "text": [
      "/opt/homebrew/lib/python3.11/site-packages/keras/src/engine/training.py:3103: UserWarning: You are saving your model as an HDF5 file via `model.save()`. This file format is considered legacy. We recommend using instead the native Keras format, e.g. `model.save('my_model.keras')`.\n",
      "  saving_api.save_model(\n"
     ]
    }
   ],
   "source": [
    "model = Sequential([\n",
    "    Conv2D(32, (3, 3), activation='relu', input_shape=(IMAGE_SIZE, IMAGE_SIZE, 3)),\n",
    "    MaxPooling2D(2, 2),\n",
    "    Dropout(0.25),\n",
    "    \n",
    "    Conv2D(64, (3, 3), activation='relu'),\n",
    "    MaxPooling2D(2, 2),\n",
    "    Dropout(0.25),\n",
    "    \n",
    "    Conv2D(128, (3, 3), activation='relu'),\n",
    "    MaxPooling2D(2, 2),\n",
    "    Dropout(0.25),\n",
    "    \n",
    "    Flatten(),\n",
    "    Dense(1024, activation='relu'),\n",
    "    Dropout(0.5),\n",
    "    Dense(number_of_classes, activation='softmax')\n",
    "])\n",
    "\n",
    "model.compile(loss='categorical_crossentropy',\n",
    "              optimizer=Adam(learning_rate=1e-4), \n",
    "              metrics=['accuracy'])\n",
    "\n",
    "start_time = time.time()\n",
    "model.fit(data, labels, epochs=50, batch_size=32)\n",
    "training_time = time.time() - start_time\n",
    "print(f\"Total training time: {training_time:.2f} seconds\")\n",
    "model.save('face_recognition_model.h5')"
   ]
  },
  {
   "cell_type": "markdown",
   "metadata": {},
   "source": [
    "Classification Report"
   ]
  },
  {
   "cell_type": "code",
   "execution_count": 28,
   "metadata": {},
   "outputs": [
    {
     "name": "stderr",
     "output_type": "stream",
     "text": [
      "WARNING:absl:At this time, the v2.11+ optimizer `tf.keras.optimizers.Adam` runs slowly on M1/M2 Macs, please use the legacy Keras optimizer instead, located at `tf.keras.optimizers.legacy.Adam`.\n"
     ]
    },
    {
     "name": "stdout",
     "output_type": "stream",
     "text": [
      "14/14 [==============================] - 0s 14ms/step\n",
      "                 precision    recall  f1-score   support\n",
      "\n",
      "      Alejandra       1.00      1.00      1.00        15\n",
      "     Alessandro       1.00      1.00      1.00        15\n",
      "      Anastasia       1.00      1.00      1.00        15\n",
      "      AndreaRan       1.00      1.00      1.00        15\n",
      "           Anna       1.00      1.00      1.00        15\n",
      "          Bruno       1.00      1.00      1.00        15\n",
      "       Clarissa       1.00      1.00      1.00        15\n",
      "         Daiane       1.00      1.00      1.00        15\n",
      "          Diego       1.00      1.00      1.00        15\n",
      "            Ewa       1.00      1.00      1.00        15\n",
      "       Fernanda       1.00      1.00      1.00        15\n",
      "        Gabriel       1.00      0.93      0.97        15\n",
      "GültenÇayırcı       0.94      1.00      0.97        15\n",
      "        Juliana       1.00      0.93      0.97        15\n",
      "          Kasia       1.00      0.93      0.97        15\n",
      "       Kateryna       1.00      1.00      1.00        15\n",
      "          Klara       1.00      1.00      1.00        15\n",
      "           Luis       1.00      1.00      1.00        15\n",
      "           Mark       1.00      1.00      1.00        15\n",
      "   Massimiliano       1.00      1.00      1.00        15\n",
      "        Matheus       1.00      1.00      1.00        15\n",
      "           Miia       1.00      1.00      1.00        15\n",
      "       Mykhailo       0.88      1.00      0.94        15\n",
      "          Paolo       1.00      1.00      1.00        15\n",
      "        Rayanne       1.00      1.00      1.00        15\n",
      "        Rômulo       1.00      1.00      1.00        15\n",
      "       Valeriia       1.00      1.00      1.00        15\n",
      "       Vitalijs       1.00      1.00      1.00        15\n",
      "        Weslley       1.00      1.00      1.00        15\n",
      "\n",
      "       accuracy                           0.99       435\n",
      "      macro avg       0.99      0.99      0.99       435\n",
      "   weighted avg       0.99      0.99      0.99       435\n",
      "\n"
     ]
    }
   ],
   "source": [
    "model = load_model('face_recognition_model.h5')\n",
    "predictions = model.predict(data)\n",
    "predicted_classes = np.argmax(predictions, axis=1)\n",
    "true_classes = np.argmax(labels, axis=1)\n",
    "lb.classes_ = np.load('label_classes.npy')\n",
    "report = classification_report(true_classes, predicted_classes, target_names=lb.classes_)\n",
    "print(report)\n",
    "end_execution_time = time.time() - execution_start_time\n",
    "print(f\"Total Execution Time: {end_execution_time} seconds\")"
   ]
  }
 ],
 "metadata": {
  "kernelspec": {
   "display_name": "Python 3",
   "language": "python",
   "name": "python3"
  },
  "language_info": {
   "codemirror_mode": {
    "name": "ipython",
    "version": 3
   },
   "file_extension": ".py",
   "mimetype": "text/x-python",
   "name": "python",
   "nbconvert_exporter": "python",
   "pygments_lexer": "ipython3",
   "version": "3.11.6"
  }
 },
 "nbformat": 4,
 "nbformat_minor": 2
}
