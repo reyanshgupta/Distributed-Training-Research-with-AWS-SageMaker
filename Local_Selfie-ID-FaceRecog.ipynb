{
 "cells": [
  {
   "cell_type": "markdown",
   "metadata": {},
   "source": [
    "Libraries"
   ]
  },
  {
   "cell_type": "code",
   "execution_count": 1,
   "metadata": {},
   "outputs": [],
   "source": [
    "import os\n",
    "import cv2\n",
    "import numpy as np\n",
    "import time\n",
    "from sklearn.preprocessing import LabelBinarizer\n",
    "from keras.models import Sequential\n",
    "from keras.layers import Conv2D, MaxPooling2D, Flatten, Dense, Dropout\n",
    "from keras.optimizers import Adam\n",
    "from PIL import Image\n",
    "from sklearn.metrics import classification_report\n",
    "from keras.models import load_model\n",
    "from sklearn.preprocessing import LabelBinarizer"
   ]
  },
  {
   "cell_type": "markdown",
   "metadata": {},
   "source": [
    "Constants"
   ]
  },
  {
   "cell_type": "code",
   "execution_count": 2,
   "metadata": {},
   "outputs": [],
   "source": [
    "IMAGE_SIZE = 64  "
   ]
  },
  {
   "cell_type": "markdown",
   "metadata": {},
   "source": [
    "Pre Processing"
   ]
  },
  {
   "cell_type": "code",
   "execution_count": 3,
   "metadata": {},
   "outputs": [
    {
     "name": "stdout",
     "output_type": "stream",
     "text": [
      "Skipping non-image file: ID_Images_Dataset/Selfies_ID_Images_dataset/11_sets_Hispanics/.DS_Store\n",
      "Skipping non-image file: ID_Images_Dataset/Selfies_ID_Images_dataset/18_sets_Caucasians/.DS_Store\n",
      "Classes Count:  29\n"
     ]
    }
   ],
   "source": [
    "execution_start_time = time.time()\n",
    "data = []\n",
    "labels = []\n",
    "\n",
    "# Function to prepare the dataset\n",
    "def prepareDataset(path):\n",
    "    filePaths = []\n",
    "    y = []\n",
    "    count = 0\n",
    "    name = ''\n",
    "\n",
    "    for dirname, _, filenames in os.walk(path):\n",
    "        if count != 0:\n",
    "            x = dirname.split('/')[-1]\n",
    "            index = x.rindex('_name_')\n",
    "            name = x[index+6:].replace(' ','')\n",
    "        for filename in filenames:\n",
    "            full_path = os.path.join(dirname, filename)\n",
    "            filePaths.append(full_path)\n",
    "            y.append(name)\n",
    "        \n",
    "        count += 1\n",
    "    return filePaths, y\n",
    "\n",
    "hispanic_path = 'ID_Images_Dataset/Selfies_ID_Images_dataset/11_sets_Hispanics'  \n",
    "caucasian_path = 'ID_Images_Dataset/Selfies_ID_Images_dataset/18_sets_Caucasians'  \n",
    "\n",
    "hispanic_filePaths, hispanic_labels = prepareDataset(hispanic_path)\n",
    "caucasian_filePaths, caucasian_labels = prepareDataset(caucasian_path)\n",
    "\n",
    "\n",
    "filePaths = hispanic_filePaths + caucasian_filePaths\n",
    "y_labels = hispanic_labels + caucasian_labels  \n",
    "\n",
    "# Load and preprocess the images\n",
    "for i, filePath in enumerate(filePaths):\n",
    "    if not filePath.lower().endswith(('.png', '.jpg', '.jpeg')):\n",
    "        print(f\"Skipping non-image file: {filePath}\")\n",
    "        continue\n",
    "    try:\n",
    "        pil_image = Image.open(filePath).convert('RGB')\n",
    "        image = np.array(pil_image)\n",
    "        image = cv2.resize(image, (IMAGE_SIZE, IMAGE_SIZE))\n",
    "        data.append(image)\n",
    "        labels.append(y_labels[i])\n",
    "    except (IOError, OSError) as e:\n",
    "        print(f\"Warning: Could not read image from {filePath} - {e}\")\n",
    "#\n",
    "data = np.array(data, dtype=\"float\") / 255.0\n",
    "labels = np.array(labels)\n",
    "\n",
    "# Convert the labels from strings to integers\n",
    "lb = LabelBinarizer()\n",
    "labels = lb.fit_transform(labels)\n",
    "\n",
    "# Define the number of classes for the CNN model\n",
    "number_of_classes = labels.shape[1]\n",
    "print(\"Classes Count: \",number_of_classes)\n",
    "np.save('label_classes.npy', lb.classes_)"
   ]
  },
  {
   "cell_type": "markdown",
   "metadata": {},
   "source": [
    "Model"
   ]
  },
  {
   "cell_type": "code",
   "execution_count": 4,
   "metadata": {},
   "outputs": [
    {
     "name": "stderr",
     "output_type": "stream",
     "text": [
      "WARNING:absl:At this time, the v2.11+ optimizer `tf.keras.optimizers.Adam` runs slowly on M1/M2 Macs, please use the legacy Keras optimizer instead, located at `tf.keras.optimizers.legacy.Adam`.\n"
     ]
    },
    {
     "name": "stdout",
     "output_type": "stream",
     "text": [
      "Epoch 1/5\n",
      "14/14 [==============================] - 1s 50ms/step - loss: 3.4287 - accuracy: 0.0368\n",
      "Epoch 2/5\n",
      "14/14 [==============================] - 1s 56ms/step - loss: 3.3685 - accuracy: 0.0552\n",
      "Epoch 3/5\n",
      "14/14 [==============================] - 1s 53ms/step - loss: 3.3320 - accuracy: 0.0667\n",
      "Epoch 4/5\n",
      "14/14 [==============================] - 1s 54ms/step - loss: 3.2898 - accuracy: 0.0598\n",
      "Epoch 5/5\n",
      "14/14 [==============================] - 1s 50ms/step - loss: 3.2619 - accuracy: 0.0874\n",
      "Total training time: 4.09 seconds\n"
     ]
    },
    {
     "name": "stderr",
     "output_type": "stream",
     "text": [
      "/opt/homebrew/lib/python3.11/site-packages/keras/src/engine/training.py:3103: UserWarning: You are saving your model as an HDF5 file via `model.save()`. This file format is considered legacy. We recommend using instead the native Keras format, e.g. `model.save('my_model.keras')`.\n",
      "  saving_api.save_model(\n"
     ]
    }
   ],
   "source": [
    "model = Sequential([\n",
    "    Conv2D(32, (3, 3), activation='relu', input_shape=(IMAGE_SIZE, IMAGE_SIZE, 3)),\n",
    "    MaxPooling2D(2, 2),\n",
    "    Dropout(0.25),\n",
    "    \n",
    "    Conv2D(64, (3, 3), activation='relu'),\n",
    "    MaxPooling2D(2, 2),\n",
    "    Dropout(0.25),\n",
    "    \n",
    "    Conv2D(128, (3, 3), activation='relu'),\n",
    "    MaxPooling2D(2, 2),\n",
    "    Dropout(0.25),\n",
    "    \n",
    "    Flatten(),\n",
    "    Dense(1024, activation='relu'),\n",
    "    Dropout(0.5),\n",
    "    Dense(number_of_classes, activation='softmax')\n",
    "])\n",
    "\n",
    "model.compile(loss='categorical_crossentropy',\n",
    "              optimizer=Adam(learning_rate=1e-4), \n",
    "              metrics=['accuracy'])\n",
    "\n",
    "start_time = time.time()\n",
    "model.fit(data, labels, epochs=5, batch_size=32)\n",
    "training_time = time.time() - start_time\n",
    "print(f\"Total training time: {training_time:.2f} seconds\")\n",
    "model.save('face_recognition_model.h5')"
   ]
  },
  {
   "cell_type": "markdown",
   "metadata": {},
   "source": [
    "Classification Report"
   ]
  },
  {
   "cell_type": "code",
   "execution_count": 5,
   "metadata": {},
   "outputs": [
    {
     "name": "stderr",
     "output_type": "stream",
     "text": [
      "WARNING:absl:At this time, the v2.11+ optimizer `tf.keras.optimizers.Adam` runs slowly on M1/M2 Macs, please use the legacy Keras optimizer instead, located at `tf.keras.optimizers.legacy.Adam`.\n"
     ]
    },
    {
     "name": "stdout",
     "output_type": "stream",
     "text": [
      "14/14 [==============================] - 0s 14ms/step\n",
      "                 precision    recall  f1-score   support\n",
      "\n",
      "      Alejandra       0.86      0.40      0.55        15\n",
      "     Alessandro       0.86      0.80      0.83        15\n",
      "      Anastasia       0.00      0.00      0.00        15\n",
      "      AndreaRan       1.00      0.13      0.24        15\n",
      "           Anna       0.15      0.53      0.24        15\n",
      "          Bruno       0.00      0.00      0.00        15\n",
      "       Clarissa       0.56      0.33      0.42        15\n",
      "         Daiane       0.33      0.20      0.25        15\n",
      "          Diego       0.15      0.13      0.14        15\n",
      "            Ewa       0.00      0.00      0.00        15\n",
      "       Fernanda       0.50      0.27      0.35        15\n",
      "        Gabriel       1.00      0.20      0.33        15\n",
      "GültenÇayırcı       0.27      0.20      0.23        15\n",
      "        Juliana       0.00      0.00      0.00        15\n",
      "          Kasia       0.29      0.13      0.18        15\n",
      "       Kateryna       0.00      0.00      0.00        15\n",
      "          Klara       0.50      0.53      0.52        15\n",
      "           Luis       0.60      0.20      0.30        15\n",
      "           Mark       0.00      0.00      0.00        15\n",
      "   Massimiliano       0.00      0.00      0.00        15\n",
      "        Matheus       0.25      0.07      0.11        15\n",
      "           Miia       0.24      0.40      0.30        15\n",
      "       Mykhailo       0.08      0.80      0.15        15\n",
      "          Paolo       0.19      0.87      0.31        15\n",
      "        Rayanne       0.71      0.67      0.69        15\n",
      "        Rômulo       0.82      0.60      0.69        15\n",
      "       Valeriia       0.29      0.13      0.18        15\n",
      "       Vitalijs       0.00      0.00      0.00        15\n",
      "        Weslley       0.00      0.00      0.00        15\n",
      "\n",
      "       accuracy                           0.26       435\n",
      "      macro avg       0.33      0.26      0.24       435\n",
      "   weighted avg       0.33      0.26      0.24       435\n",
      "\n",
      "Total Execution Time: 37.547597885131836 seconds\n"
     ]
    },
    {
     "name": "stderr",
     "output_type": "stream",
     "text": [
      "/opt/homebrew/lib/python3.11/site-packages/sklearn/metrics/_classification.py:1497: UndefinedMetricWarning: Precision is ill-defined and being set to 0.0 in labels with no predicted samples. Use `zero_division` parameter to control this behavior.\n",
      "  _warn_prf(average, modifier, f\"{metric.capitalize()} is\", len(result))\n",
      "/opt/homebrew/lib/python3.11/site-packages/sklearn/metrics/_classification.py:1497: UndefinedMetricWarning: Precision is ill-defined and being set to 0.0 in labels with no predicted samples. Use `zero_division` parameter to control this behavior.\n",
      "  _warn_prf(average, modifier, f\"{metric.capitalize()} is\", len(result))\n",
      "/opt/homebrew/lib/python3.11/site-packages/sklearn/metrics/_classification.py:1497: UndefinedMetricWarning: Precision is ill-defined and being set to 0.0 in labels with no predicted samples. Use `zero_division` parameter to control this behavior.\n",
      "  _warn_prf(average, modifier, f\"{metric.capitalize()} is\", len(result))\n"
     ]
    }
   ],
   "source": [
    "model = load_model('face_recognition_model.h5')\n",
    "predictions = model.predict(data)\n",
    "predicted_classes = np.argmax(predictions, axis=1)\n",
    "true_classes = np.argmax(labels, axis=1)\n",
    "lb.classes_ = np.load('label_classes.npy')\n",
    "report = classification_report(true_classes, predicted_classes, target_names=lb.classes_)\n",
    "print(report)\n",
    "end_execution_time = time.time() - execution_start_time\n",
    "print(f\"Total Execution Time: {end_execution_time} seconds\")"
   ]
  }
 ],
 "metadata": {
  "kernelspec": {
   "display_name": "Python 3",
   "language": "python",
   "name": "python3"
  },
  "language_info": {
   "codemirror_mode": {
    "name": "ipython",
    "version": 3
   },
   "file_extension": ".py",
   "mimetype": "text/x-python",
   "name": "python",
   "nbconvert_exporter": "python",
   "pygments_lexer": "ipython3",
   "version": "3.11.6"
  }
 },
 "nbformat": 4,
 "nbformat_minor": 2
}
